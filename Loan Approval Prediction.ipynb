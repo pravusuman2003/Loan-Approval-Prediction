{
 "cells": [
  {
   "cell_type": "code",
   "execution_count": 19,
   "id": "a8d8142b-2df9-4f92-bc7b-4337e3353625",
   "metadata": {},
   "outputs": [],
   "source": [
    "import pandas as pd\n",
    "import numpy as np"
   ]
  },
  {
   "cell_type": "code",
   "execution_count": 20,
   "id": "1affccc6-f9d4-4281-88a8-8d7c8dacd55e",
   "metadata": {},
   "outputs": [],
   "source": [
    "df=pd.read_csv(\"loan_approval_dataset.csv\")"
   ]
  },
  {
   "cell_type": "code",
   "execution_count": 21,
   "id": "21f3f117-2b56-4b7b-aa50-2e382f3e6707",
   "metadata": {},
   "outputs": [
    {
     "name": "stdout",
     "output_type": "stream",
     "text": [
      "   loan_id   no_of_dependents      education  self_employed   income_annum  \\\n",
      "0        1                  2       Graduate             No        9600000   \n",
      "1        2                  0   Not Graduate            Yes        4100000   \n",
      "2        3                  3       Graduate             No        9100000   \n",
      "3        4                  3       Graduate             No        8200000   \n",
      "4        5                  5   Not Graduate            Yes        9800000   \n",
      "\n",
      "    loan_amount   loan_term   cibil_score   residential_assets_value  \\\n",
      "0      29900000          12           778                    2400000   \n",
      "1      12200000           8           417                    2700000   \n",
      "2      29700000          20           506                    7100000   \n",
      "3      30700000           8           467                   18200000   \n",
      "4      24200000          20           382                   12400000   \n",
      "\n",
      "    commercial_assets_value   luxury_assets_value   bank_asset_value  \\\n",
      "0                  17600000              22700000            8000000   \n",
      "1                   2200000               8800000            3300000   \n",
      "2                   4500000              33300000           12800000   \n",
      "3                   3300000              23300000            7900000   \n",
      "4                   8200000              29400000            5000000   \n",
      "\n",
      "   loan_status  \n",
      "0     Approved  \n",
      "1     Rejected  \n",
      "2     Rejected  \n",
      "3     Rejected  \n",
      "4     Rejected  \n"
     ]
    }
   ],
   "source": [
    "print(df.head())"
   ]
  },
  {
   "cell_type": "code",
   "execution_count": 22,
   "id": "a7d68c37-e655-45ee-8518-dfd321f4d4d3",
   "metadata": {},
   "outputs": [
    {
     "name": "stdout",
     "output_type": "stream",
     "text": [
      "<class 'pandas.core.frame.DataFrame'>\n",
      "RangeIndex: 4269 entries, 0 to 4268\n",
      "Data columns (total 13 columns):\n",
      " #   Column                     Non-Null Count  Dtype \n",
      "---  ------                     --------------  ----- \n",
      " 0   loan_id                    4269 non-null   int64 \n",
      " 1    no_of_dependents          4269 non-null   int64 \n",
      " 2    education                 4269 non-null   object\n",
      " 3    self_employed             4269 non-null   object\n",
      " 4    income_annum              4269 non-null   int64 \n",
      " 5    loan_amount               4269 non-null   int64 \n",
      " 6    loan_term                 4269 non-null   int64 \n",
      " 7    cibil_score               4269 non-null   int64 \n",
      " 8    residential_assets_value  4269 non-null   int64 \n",
      " 9    commercial_assets_value   4269 non-null   int64 \n",
      " 10   luxury_assets_value       4269 non-null   int64 \n",
      " 11   bank_asset_value          4269 non-null   int64 \n",
      " 12   loan_status               4269 non-null   object\n",
      "dtypes: int64(10), object(3)\n",
      "memory usage: 433.7+ KB\n",
      "None\n"
     ]
    }
   ],
   "source": [
    "print(df.info())"
   ]
  },
  {
   "cell_type": "code",
   "execution_count": 23,
   "id": "acf27f97-799d-4047-acba-f466ef093caf",
   "metadata": {},
   "outputs": [
    {
     "name": "stdout",
     "output_type": "stream",
     "text": [
      "           loan_id   no_of_dependents   income_annum   loan_amount  \\\n",
      "count  4269.000000        4269.000000   4.269000e+03  4.269000e+03   \n",
      "mean   2135.000000           2.498712   5.059124e+06  1.513345e+07   \n",
      "std    1232.498479           1.695910   2.806840e+06  9.043363e+06   \n",
      "min       1.000000           0.000000   2.000000e+05  3.000000e+05   \n",
      "25%    1068.000000           1.000000   2.700000e+06  7.700000e+06   \n",
      "50%    2135.000000           3.000000   5.100000e+06  1.450000e+07   \n",
      "75%    3202.000000           4.000000   7.500000e+06  2.150000e+07   \n",
      "max    4269.000000           5.000000   9.900000e+06  3.950000e+07   \n",
      "\n",
      "         loan_term   cibil_score   residential_assets_value  \\\n",
      "count  4269.000000   4269.000000               4.269000e+03   \n",
      "mean     10.900445    599.936051               7.472617e+06   \n",
      "std       5.709187    172.430401               6.503637e+06   \n",
      "min       2.000000    300.000000              -1.000000e+05   \n",
      "25%       6.000000    453.000000               2.200000e+06   \n",
      "50%      10.000000    600.000000               5.600000e+06   \n",
      "75%      16.000000    748.000000               1.130000e+07   \n",
      "max      20.000000    900.000000               2.910000e+07   \n",
      "\n",
      "        commercial_assets_value   luxury_assets_value   bank_asset_value  \n",
      "count              4.269000e+03          4.269000e+03       4.269000e+03  \n",
      "mean               4.973155e+06          1.512631e+07       4.976692e+06  \n",
      "std                4.388966e+06          9.103754e+06       3.250185e+06  \n",
      "min                0.000000e+00          3.000000e+05       0.000000e+00  \n",
      "25%                1.300000e+06          7.500000e+06       2.300000e+06  \n",
      "50%                3.700000e+06          1.460000e+07       4.600000e+06  \n",
      "75%                7.600000e+06          2.170000e+07       7.100000e+06  \n",
      "max                1.940000e+07          3.920000e+07       1.470000e+07  \n"
     ]
    }
   ],
   "source": [
    "print(df.describe())"
   ]
  },
  {
   "cell_type": "code",
   "execution_count": 24,
   "id": "e0142a5e-8642-4280-9c25-5f4330a319ec",
   "metadata": {},
   "outputs": [],
   "source": [
    "df.columns=df.columns.str.strip()"
   ]
  },
  {
   "cell_type": "code",
   "execution_count": 25,
   "id": "4eaf7e45-b39e-4da8-96c7-250c8bca184b",
   "metadata": {},
   "outputs": [],
   "source": [
    "df=df.drop('loan_id',axis=1)\n",
    "df['total_assets_value']=df['residential_assets_value']+df['commercial_assets_value']+df['luxury_assets_value']+df['bank_asset_value']\n",
    "df=df.drop('residential_assets_value',axis=1)\n",
    "df=df.drop('commercial_assets_value',axis=1)\n",
    "df=df.drop('luxury_assets_value',axis=1)\n",
    "df=df.drop('bank_asset_value',axis=1)"
   ]
  },
  {
   "cell_type": "code",
   "execution_count": 26,
   "id": "385df5b7-aabf-4d0f-8c68-a3754eb38882",
   "metadata": {},
   "outputs": [
    {
     "name": "stderr",
     "output_type": "stream",
     "text": [
      "C:\\Users\\ASUS\\AppData\\Local\\Temp\\ipykernel_6240\\1139203876.py:1: FutureWarning: Downcasting behavior in `replace` is deprecated and will be removed in a future version. To retain the old behavior, explicitly call `result.infer_objects(copy=False)`. To opt-in to the future behavior, set `pd.set_option('future.no_silent_downcasting', True)`\n",
      "  df['education'] = df['education'].replace({' Graduate': 1, ' Not Graduate': 0})\n",
      "C:\\Users\\ASUS\\AppData\\Local\\Temp\\ipykernel_6240\\1139203876.py:2: FutureWarning: Downcasting behavior in `replace` is deprecated and will be removed in a future version. To retain the old behavior, explicitly call `result.infer_objects(copy=False)`. To opt-in to the future behavior, set `pd.set_option('future.no_silent_downcasting', True)`\n",
      "  df['self_employed'] = df['self_employed'].replace({' Yes': 1, ' No': 0})\n",
      "C:\\Users\\ASUS\\AppData\\Local\\Temp\\ipykernel_6240\\1139203876.py:3: FutureWarning: Downcasting behavior in `replace` is deprecated and will be removed in a future version. To retain the old behavior, explicitly call `result.infer_objects(copy=False)`. To opt-in to the future behavior, set `pd.set_option('future.no_silent_downcasting', True)`\n",
      "  df['loan_status'] = df['loan_status'].replace({' Approved': 1, ' Rejected': 0})\n"
     ]
    }
   ],
   "source": [
    "df['education'] = df['education'].replace({' Graduate': 1, ' Not Graduate': 0})\n",
    "df['self_employed'] = df['self_employed'].replace({' Yes': 1, ' No': 0})\n",
    "df['loan_status'] = df['loan_status'].replace({' Approved': 1, ' Rejected': 0})"
   ]
  },
  {
   "cell_type": "code",
   "execution_count": 27,
   "id": "b0a2ad83-52b6-4bca-8750-0912abd7c9fd",
   "metadata": {},
   "outputs": [
    {
     "name": "stdout",
     "output_type": "stream",
     "text": [
      "<class 'pandas.core.frame.DataFrame'>\n",
      "RangeIndex: 4269 entries, 0 to 4268\n",
      "Data columns (total 9 columns):\n",
      " #   Column              Non-Null Count  Dtype\n",
      "---  ------              --------------  -----\n",
      " 0   no_of_dependents    4269 non-null   int64\n",
      " 1   education           4269 non-null   int64\n",
      " 2   self_employed       4269 non-null   int64\n",
      " 3   income_annum        4269 non-null   int64\n",
      " 4   loan_amount         4269 non-null   int64\n",
      " 5   loan_term           4269 non-null   int64\n",
      " 6   cibil_score         4269 non-null   int64\n",
      " 7   loan_status         4269 non-null   int64\n",
      " 8   total_assets_value  4269 non-null   int64\n",
      "dtypes: int64(9)\n",
      "memory usage: 300.3 KB\n",
      "None\n"
     ]
    }
   ],
   "source": [
    "print(df.info())"
   ]
  },
  {
   "cell_type": "code",
   "execution_count": 28,
   "id": "762ee35d-8836-4e5d-9422-c88bd9857473",
   "metadata": {},
   "outputs": [
    {
     "data": {
      "text/html": [
       "<div>\n",
       "<style scoped>\n",
       "    .dataframe tbody tr th:only-of-type {\n",
       "        vertical-align: middle;\n",
       "    }\n",
       "\n",
       "    .dataframe tbody tr th {\n",
       "        vertical-align: top;\n",
       "    }\n",
       "\n",
       "    .dataframe thead th {\n",
       "        text-align: right;\n",
       "    }\n",
       "</style>\n",
       "<table border=\"1\" class=\"dataframe\">\n",
       "  <thead>\n",
       "    <tr style=\"text-align: right;\">\n",
       "      <th></th>\n",
       "      <th>no_of_dependents</th>\n",
       "      <th>education</th>\n",
       "      <th>self_employed</th>\n",
       "      <th>income_annum</th>\n",
       "      <th>loan_amount</th>\n",
       "      <th>loan_term</th>\n",
       "      <th>cibil_score</th>\n",
       "      <th>loan_status</th>\n",
       "      <th>total_assets_value</th>\n",
       "    </tr>\n",
       "  </thead>\n",
       "  <tbody>\n",
       "    <tr>\n",
       "      <th>0</th>\n",
       "      <td>2</td>\n",
       "      <td>1</td>\n",
       "      <td>0</td>\n",
       "      <td>9600000</td>\n",
       "      <td>29900000</td>\n",
       "      <td>12</td>\n",
       "      <td>778</td>\n",
       "      <td>1</td>\n",
       "      <td>50700000</td>\n",
       "    </tr>\n",
       "    <tr>\n",
       "      <th>1</th>\n",
       "      <td>0</td>\n",
       "      <td>0</td>\n",
       "      <td>1</td>\n",
       "      <td>4100000</td>\n",
       "      <td>12200000</td>\n",
       "      <td>8</td>\n",
       "      <td>417</td>\n",
       "      <td>0</td>\n",
       "      <td>17000000</td>\n",
       "    </tr>\n",
       "    <tr>\n",
       "      <th>2</th>\n",
       "      <td>3</td>\n",
       "      <td>1</td>\n",
       "      <td>0</td>\n",
       "      <td>9100000</td>\n",
       "      <td>29700000</td>\n",
       "      <td>20</td>\n",
       "      <td>506</td>\n",
       "      <td>0</td>\n",
       "      <td>57700000</td>\n",
       "    </tr>\n",
       "    <tr>\n",
       "      <th>3</th>\n",
       "      <td>3</td>\n",
       "      <td>1</td>\n",
       "      <td>0</td>\n",
       "      <td>8200000</td>\n",
       "      <td>30700000</td>\n",
       "      <td>8</td>\n",
       "      <td>467</td>\n",
       "      <td>0</td>\n",
       "      <td>52700000</td>\n",
       "    </tr>\n",
       "    <tr>\n",
       "      <th>4</th>\n",
       "      <td>5</td>\n",
       "      <td>0</td>\n",
       "      <td>1</td>\n",
       "      <td>9800000</td>\n",
       "      <td>24200000</td>\n",
       "      <td>20</td>\n",
       "      <td>382</td>\n",
       "      <td>0</td>\n",
       "      <td>55000000</td>\n",
       "    </tr>\n",
       "    <tr>\n",
       "      <th>...</th>\n",
       "      <td>...</td>\n",
       "      <td>...</td>\n",
       "      <td>...</td>\n",
       "      <td>...</td>\n",
       "      <td>...</td>\n",
       "      <td>...</td>\n",
       "      <td>...</td>\n",
       "      <td>...</td>\n",
       "      <td>...</td>\n",
       "    </tr>\n",
       "    <tr>\n",
       "      <th>4264</th>\n",
       "      <td>5</td>\n",
       "      <td>1</td>\n",
       "      <td>1</td>\n",
       "      <td>1000000</td>\n",
       "      <td>2300000</td>\n",
       "      <td>12</td>\n",
       "      <td>317</td>\n",
       "      <td>0</td>\n",
       "      <td>7400000</td>\n",
       "    </tr>\n",
       "    <tr>\n",
       "      <th>4265</th>\n",
       "      <td>0</td>\n",
       "      <td>0</td>\n",
       "      <td>1</td>\n",
       "      <td>3300000</td>\n",
       "      <td>11300000</td>\n",
       "      <td>20</td>\n",
       "      <td>559</td>\n",
       "      <td>1</td>\n",
       "      <td>20000000</td>\n",
       "    </tr>\n",
       "    <tr>\n",
       "      <th>4266</th>\n",
       "      <td>2</td>\n",
       "      <td>0</td>\n",
       "      <td>0</td>\n",
       "      <td>6500000</td>\n",
       "      <td>23900000</td>\n",
       "      <td>18</td>\n",
       "      <td>457</td>\n",
       "      <td>0</td>\n",
       "      <td>39000000</td>\n",
       "    </tr>\n",
       "    <tr>\n",
       "      <th>4267</th>\n",
       "      <td>1</td>\n",
       "      <td>0</td>\n",
       "      <td>0</td>\n",
       "      <td>4100000</td>\n",
       "      <td>12800000</td>\n",
       "      <td>8</td>\n",
       "      <td>780</td>\n",
       "      <td>1</td>\n",
       "      <td>28800000</td>\n",
       "    </tr>\n",
       "    <tr>\n",
       "      <th>4268</th>\n",
       "      <td>1</td>\n",
       "      <td>1</td>\n",
       "      <td>0</td>\n",
       "      <td>9200000</td>\n",
       "      <td>29700000</td>\n",
       "      <td>10</td>\n",
       "      <td>607</td>\n",
       "      <td>1</td>\n",
       "      <td>77300000</td>\n",
       "    </tr>\n",
       "  </tbody>\n",
       "</table>\n",
       "<p>4269 rows × 9 columns</p>\n",
       "</div>"
      ],
      "text/plain": [
       "      no_of_dependents  education  self_employed  income_annum  loan_amount  \\\n",
       "0                    2          1              0       9600000     29900000   \n",
       "1                    0          0              1       4100000     12200000   \n",
       "2                    3          1              0       9100000     29700000   \n",
       "3                    3          1              0       8200000     30700000   \n",
       "4                    5          0              1       9800000     24200000   \n",
       "...                ...        ...            ...           ...          ...   \n",
       "4264                 5          1              1       1000000      2300000   \n",
       "4265                 0          0              1       3300000     11300000   \n",
       "4266                 2          0              0       6500000     23900000   \n",
       "4267                 1          0              0       4100000     12800000   \n",
       "4268                 1          1              0       9200000     29700000   \n",
       "\n",
       "      loan_term  cibil_score  loan_status  total_assets_value  \n",
       "0            12          778            1            50700000  \n",
       "1             8          417            0            17000000  \n",
       "2            20          506            0            57700000  \n",
       "3             8          467            0            52700000  \n",
       "4            20          382            0            55000000  \n",
       "...         ...          ...          ...                 ...  \n",
       "4264         12          317            0             7400000  \n",
       "4265         20          559            1            20000000  \n",
       "4266         18          457            0            39000000  \n",
       "4267          8          780            1            28800000  \n",
       "4268         10          607            1            77300000  \n",
       "\n",
       "[4269 rows x 9 columns]"
      ]
     },
     "execution_count": 28,
     "metadata": {},
     "output_type": "execute_result"
    }
   ],
   "source": [
    "df"
   ]
  },
  {
   "cell_type": "code",
   "execution_count": 29,
   "id": "a9489170-b861-43a5-a784-9de4cee27496",
   "metadata": {},
   "outputs": [],
   "source": [
    "from sklearn.model_selection import train_test_split\n",
    "X = df.drop('loan_status', axis=1)\n",
    "y = df['loan_status']\n",
    "X_train, X_test, y_train, y_test = train_test_split(X, y, test_size=0.2, random_state=42)"
   ]
  },
  {
   "cell_type": "code",
   "execution_count": 30,
   "id": "faa8b239-1b50-4b89-b4fc-45db241c0b68",
   "metadata": {},
   "outputs": [],
   "source": [
    "from sklearn.ensemble import RandomForestClassifier\n",
    "\n",
    "model = RandomForestClassifier()\n",
    "model.fit(X_train, y_train)\n",
    "y_pred = model.predict(X_test)"
   ]
  },
  {
   "cell_type": "code",
   "execution_count": 31,
   "id": "d7623574-ca44-4796-b725-7a9179203870",
   "metadata": {},
   "outputs": [
    {
     "name": "stdout",
     "output_type": "stream",
     "text": [
      "Accuracy: 0.9800936768149883\n",
      "Precision: 0.9779005524861878\n",
      "Recall: 0.9906716417910447\n",
      "F1-score: 0.9842446709916589\n",
      "Confusion Matrix:\n",
      " [[306  12]\n",
      " [  5 531]]\n"
     ]
    }
   ],
   "source": [
    "from sklearn.metrics import accuracy_score, precision_score, recall_score, f1_score, confusion_matrix\n",
    "\n",
    "accuracy = accuracy_score(y_test, y_pred)\n",
    "precision = precision_score(y_test, y_pred)\n",
    "recall = recall_score(y_test, y_pred)\n",
    "f1 = f1_score(y_test, y_pred)\n",
    "confusion_mat = confusion_matrix(y_test, y_pred)\n",
    "\n",
    "print(\"Accuracy:\", accuracy)\n",
    "print(\"Precision:\", precision)\n",
    "print(\"Recall:\", recall)\n",
    "print(\"F1-score:\", f1)\n",
    "print(\"Confusion Matrix:\\n\", confusion_mat)"
   ]
  },
  {
   "cell_type": "code",
   "execution_count": 32,
   "id": "743a2d68",
   "metadata": {},
   "outputs": [
    {
     "name": "stdout",
     "output_type": "stream",
     "text": [
      "Feature Importances:\n",
      "cibil_score           0.813934\n",
      "loan_term             0.062389\n",
      "loan_amount           0.038569\n",
      "total_assets_value    0.034409\n",
      "income_annum          0.030089\n",
      "no_of_dependents      0.012793\n",
      "education             0.003963\n",
      "self_employed         0.003854\n",
      "dtype: float64\n"
     ]
    }
   ],
   "source": [
    "importances = model.feature_importances_\n",
    "feature_names = X.columns\n",
    "feature_importances = pd.Series(importances, index=feature_names)\n",
    "\n",
    "print(\"Feature Importances:\")\n",
    "print(feature_importances.sort_values(ascending=False))\n"
   ]
  },
  {
   "cell_type": "code",
   "execution_count": 33,
   "id": "06b7e883",
   "metadata": {},
   "outputs": [
    {
     "name": "stdout",
     "output_type": "stream",
     "text": [
      "Class distribution in the training set:\n",
      "loan_status\n",
      "1    2120\n",
      "0    1295\n",
      "Name: count, dtype: int64\n"
     ]
    }
   ],
   "source": [
    "print(\"Class distribution in the training set:\")\n",
    "print(y_train.value_counts())"
   ]
  },
  {
   "cell_type": "code",
   "execution_count": 34,
   "id": "9ded100e-b4a1-4c11-b444-c8a8d21adfba",
   "metadata": {},
   "outputs": [
    {
     "name": "stdout",
     "output_type": "stream",
     "text": [
      "[1]\n"
     ]
    }
   ],
   "source": [
    "approved_loan_data = {\n",
    "    'no_of_dependents': 2,\n",
    "    'education': 1,\n",
    "    'self_employed': 0,\n",
    "    'income_annum': 600000,\n",
    "    'loan_amount': 500000,\n",
    "    'loan_term': 36,\n",
    "    'cibil_score': 750,\n",
    "    'total_assets_value': 1200000\n",
    "}\n",
    "input_df=pd.DataFrame(approved_loan_data,index=[0])\n",
    "predicted_status = model.predict(input_df)\n",
    "print(predicted_status)"
   ]
  },
  {
   "cell_type": "code",
   "execution_count": 45,
   "id": "003ea1c7-b638-4ec8-8f0e-a699b2d48f09",
   "metadata": {},
   "outputs": [
    {
     "name": "stdout",
     "output_type": "stream",
     "text": [
      "[0]\n"
     ]
    }
   ],
   "source": [
    "rejected_loan_data = {\n",
    "    'no_of_dependents': 4,\n",
    "    'education': 0,  # Assuming 3 represents Associate's\n",
    "    'self_employed': 1,\n",
    "    'income_annum': 300000,\n",
    "    'loan_amount': 50000,\n",
    "    'loan_term': 60,\n",
    "    'cibil_score': 750,\n",
    "    'total_assets_value': 600000\n",
    "}\n",
    "input_df=pd.DataFrame(rejected_loan_data,index=[0])\n",
    "predicted_status = model.predict(input_df)\n",
    "print(predicted_status)"
   ]
  }
 ],
 "metadata": {
  "kernelspec": {
   "display_name": "Python 3 (ipykernel)",
   "language": "python",
   "name": "python3"
  },
  "language_info": {
   "codemirror_mode": {
    "name": "ipython",
    "version": 3
   },
   "file_extension": ".py",
   "mimetype": "text/x-python",
   "name": "python",
   "nbconvert_exporter": "python",
   "pygments_lexer": "ipython3",
   "version": "3.12.4"
  }
 },
 "nbformat": 4,
 "nbformat_minor": 5
}
